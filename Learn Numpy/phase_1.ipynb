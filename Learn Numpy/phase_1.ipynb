{
 "cells": [
  {
   "cell_type": "markdown",
   "metadata": {},
   "source": [
    "Numpy Array And Basics"
   ]
  },
  {
   "cell_type": "code",
   "execution_count": 1,
   "metadata": {},
   "outputs": [
    {
     "name": "stdout",
     "output_type": "stream",
     "text": [
      "2.2.3\n"
     ]
    }
   ],
   "source": [
    "import numpy as np\n",
    "import time\n",
    "print(np.__version__)"
   ]
  },
  {
   "cell_type": "markdown",
   "metadata": {},
   "source": [
    "Creating array from the list"
   ]
  },
  {
   "cell_type": "code",
   "execution_count": 2,
   "metadata": {},
   "outputs": [
    {
     "name": "stdout",
     "output_type": "stream",
     "text": [
      "1d array is : [11 12 13 14 15 16]\n",
      "first element is :: 13\n",
      "2d array is ::\n",
      " [[1 2 3]\n",
      " [4 5 6]]\n",
      "Indexing :: 4\n"
     ]
    }
   ],
   "source": [
    "arr_1d = np.array([11,12,13,14,15,16])\n",
    "print(\"1d array is :\",arr_1d)\n",
    "print(\"first element is ::\",arr_1d[2])\n",
    "\n",
    "arr_2d =np.array([[1,2,3],[4,5,6]])\n",
    "print(\"2d array is ::\\n\",arr_2d)\n",
    "print(\"Indexing ::\",arr_2d[1][0])"
   ]
  },
  {
   "cell_type": "markdown",
   "metadata": {},
   "source": [
    "List vs Numpy Array :-"
   ]
  },
  {
   "cell_type": "code",
   "execution_count": 3,
   "metadata": {},
   "outputs": [
    {
     "name": "stdout",
     "output_type": "stream",
     "text": [
      "list multiplication is :: [10, 20, 15, 10, 20, 15, 10, 20, 15]\n",
      "array multiplication is :: [20 40 60 30]\n",
      "list operation time is: 0.058029890060424805\n",
      "numpy array operation time is: 0.006081342697143555\n"
     ]
    }
   ],
   "source": [
    "py_list=[10,20,15]\n",
    "print(\"list multiplication is ::\",py_list*3)\n",
    "\n",
    "np_array=np.array([10,20,30,15])\n",
    "print(\"array multiplication is ::\",np_array*2)\n",
    "\n",
    "start = time.time()\n",
    "\n",
    "number_list = [i*2 for i in range(1000000)]\n",
    "print(\"list operation time is:\",time.time()-start)\n",
    "\n",
    "start = time.time()\n",
    "number_arr=np.arange(1000000)*2\n",
    "print(\"numpy array operation time is:\",time.time()-start)"
   ]
  },
  {
   "cell_type": "markdown",
   "metadata": {},
   "source": [
    "Creating Array From Scratch"
   ]
  },
  {
   "cell_type": "code",
   "execution_count": 4,
   "metadata": {},
   "outputs": [
    {
     "name": "stdout",
     "output_type": "stream",
     "text": [
      "zeros array:: \n",
      " [[0. 0. 0.]\n",
      " [0. 0. 0.]\n",
      " [0. 0. 0.]]\n",
      "ones array ::\n",
      " [[1. 1. 1. 1.]\n",
      " [1. 1. 1. 1.]\n",
      " [1. 1. 1. 1.]]\n",
      "array is 2 random elements::\n",
      " [-2.00000000e+000  6.11315289e-310]\n",
      "array is sequence array elements::\n",
      " [0 1 2 3 4 5 6 7 8 9]\n",
      "array is sequence array elements::\n",
      " [11 13 15 17 19 21 23 25 27 29]\n",
      "array is linespace_array elements::\n",
      " [ 11  33  55  77 100]\n",
      "array is full_array elements::\n",
      " [[6 6 6]\n",
      " [6 6 6]\n",
      " [6 6 6]]\n",
      "array is random elements::\n",
      " [[0.40190733 0.57132717 0.90182693]\n",
      " [0.35767637 0.72644918 0.48424022]]\n"
     ]
    }
   ],
   "source": [
    "zeros_array=np.zeros((3,3))\n",
    "print(\"zeros array:: \\n\",zeros_array)\n",
    "\n",
    "ones_array=np.ones((3,4))\n",
    "print(\"ones array ::\\n\",ones_array)\n",
    "\n",
    "empty_array=np.empty(2)\n",
    "print(\"array is 2 random elements::\\n\",empty_array)\n",
    "\n",
    "sequence_array=np.arange(10)\n",
    "print(\"array is sequence array elements::\\n\",sequence_array)\n",
    "sequence_array_2=np.arange(11,31,2)\n",
    "print(\"array is sequence array elements::\\n\",sequence_array_2)\n",
    "\n",
    "# this will create an array of random num(here five) elements \n",
    "linespace_array=np.linspace(11,100,num=5,dtype=int)\n",
    "print(\"array is linespace_array elements::\\n\",linespace_array)\n",
    "\n",
    "full_array=np.full((3,3),6)\n",
    "print(\"array is full_array elements::\\n\",full_array)\n",
    "\n",
    "random_array=np.random.random((2,3))\n",
    "print(\"array is random elements::\\n\",random_array)"
   ]
  },
  {
   "cell_type": "markdown",
   "metadata": {},
   "source": [
    "Array Properties :-"
   ]
  },
  {
   "cell_type": "code",
   "execution_count": 5,
   "metadata": {},
   "outputs": [
    {
     "name": "stdout",
     "output_type": "stream",
     "text": [
      "shape of the array is :: (3, 3)\n",
      "dimension of the array is:: 2\n",
      "size of the array is(elements in array ) :: 9\n",
      "data type of the array is :: int64\n",
      "True\n"
     ]
    }
   ],
   "source": [
    "arr=np.array([\n",
    "    [1,2,3],\n",
    "    [4,5,6],\n",
    "    [7,8,0],\n",
    "    \n",
    "    ])\n",
    "print(\"shape of the array is ::\",arr.shape)\n",
    "print(\"dimension of the array is::\",arr.ndim)\n",
    "print(\"size of the array is(elements in array ) ::\",arr.size)\n",
    "print(\"data type of the array is ::\",arr.dtype)\n",
    "print(len(arr.shape)==arr.ndim)"
   ]
  },
  {
   "cell_type": "markdown",
   "metadata": {},
   "source": [
    "Vector , Matrix and Tensor :-"
   ]
  },
  {
   "cell_type": "code",
   "execution_count": 6,
   "metadata": {},
   "outputs": [
    {
     "name": "stdout",
     "output_type": "stream",
     "text": [
      "this is vector:: [11 12 13 14]\n",
      "matrix is::\n",
      " [[10 12 13]\n",
      " [14 15 16]]\n",
      "this is tensor::\n",
      " [[[ 1  2  3]\n",
      "  [ 4  5  6]]\n",
      "\n",
      " [[ 7  8  9]\n",
      "  [10 11 12]]]\n"
     ]
    }
   ],
   "source": [
    "vector=np.array([11,12,13,14])\n",
    "print(\"this is vector::\",vector)\n",
    "\n",
    "matrix=np.array([[10,12,13],[14,15,16]])\n",
    "print(\"matrix is::\\n\",matrix)\n",
    "\n",
    "tensor=np.array([ \n",
    "                 [[1,2,3],[4,5,6]],\n",
    "                 [[7,8,9],[10,11,12]],\n",
    "                 ])\n",
    "print(\"this is tensor::\\n\",tensor)"
   ]
  },
  {
   "cell_type": "markdown",
   "metadata": {},
   "source": [
    "Array Reshaping :-\n",
    "\n",
    "difference b/w ravel function and flatten function :-\n",
    "- if we change in raveled array then changes is also reflects in original array and if change in flattened array then changes will not be affected in original array."
   ]
  },
  {
   "cell_type": "code",
   "execution_count": 12,
   "metadata": {},
   "outputs": [
    {
     "name": "stdout",
     "output_type": "stream",
     "text": [
      "original array ::\n",
      " [[ 0  1  2  3  4]\n",
      " [ 5  6  7  8  9]\n",
      " [10 11 12 13 14]]\n",
      "##################################################\n",
      "original array ::\n",
      " [[ 0  1  2  3  4]\n",
      " [ 5  6  7  8  9]\n",
      " [10 11 12 13 14]]\n",
      "flattened arr::\n",
      " [  0   1   2   3   4   5 800   7   8   9  10  11  12  13  14]\n",
      "##################################################\n",
      "original array ::\n",
      " [[  0   1   2   3   4]\n",
      " [  5 800   7   8   9]\n",
      " [ 10  11  12  13  14]]\n",
      "flattened arr::\n",
      " [  0   1   2   3   4   5 800   7   8   9  10  11  12  13  14]\n",
      "original array::\n",
      " [[  0   1   2   3   4]\n",
      " [  5 800   7   8   9]\n",
      " [ 10  11  12  13  14]]\n",
      "Transpose matrix ::\n",
      " [[  0   5  10]\n",
      " [  1 800  11]\n",
      " [  2   7  12]\n",
      " [  3   8  13]\n",
      " [  4   9  14]]\n"
     ]
    }
   ],
   "source": [
    "arr=np.arange(15).reshape((3,5))\n",
    "print(\"original array ::\\n\",arr)\n",
    "\n",
    "# this is first method to reshape the array\n",
    "reshaped_arr=arr.reshape((5,3))\n",
    "# print(\"reshaped array ::\\n\",reshaped_arr)\n",
    "\n",
    "# this is second method to reshape the array \n",
    "new_reshape_arr=np.reshape(arr,shape=(3,5))\n",
    "# print(\"new reshaped array ::\\n\",new_reshape_arr)\n",
    "\n",
    "# print(\"#\"*50)\n",
    "\n",
    "flatten_arr=arr.flatten()\n",
    "# print(\"flattened arr::\\n\",flatten_arr)\n",
    "\n",
    "# print(\"#\"*50)\n",
    "raveled_arr=arr.ravel()\n",
    "# print(\"ravel arr::\\n\",raveled_arr)\n",
    "\n",
    "#----------------------------------------\n",
    "print(\"#\"*50)\n",
    "flatten_arr[6]=800\n",
    "print(\"original array ::\\n\",arr)\n",
    "\n",
    "print(\"flattened arr::\\n\",flatten_arr)\n",
    "\n",
    "print(\"#\"*50)\n",
    "\n",
    "#----------------------------------------\n",
    "\n",
    "raveled_arr[6]=800\n",
    "print(\"original array ::\\n\",arr)\n",
    "\n",
    "print(\"flattened arr::\\n\",raveled_arr)\n",
    "\n",
    "# Transpose\n",
    "print(\"original array::\\n\",arr)\n",
    "transpose_arr=arr.T\n",
    "print(\"Transpose matrix ::\\n\",transpose_arr)"
   ]
  }
 ],
 "metadata": {
  "kernelspec": {
   "display_name": ".venv",
   "language": "python",
   "name": "python3"
  },
  "language_info": {
   "codemirror_mode": {
    "name": "ipython",
    "version": 3
   },
   "file_extension": ".py",
   "mimetype": "text/x-python",
   "name": "python",
   "nbconvert_exporter": "python",
   "pygments_lexer": "ipython3",
   "version": "3.12.7"
  }
 },
 "nbformat": 4,
 "nbformat_minor": 2
}
