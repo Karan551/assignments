{
 "cells": [
  {
   "cell_type": "markdown",
   "metadata": {},
   "source": [
    "Numpy Array Operations :-"
   ]
  },
  {
   "cell_type": "code",
   "execution_count": 1,
   "metadata": {},
   "outputs": [],
   "source": [
    "import numpy as np"
   ]
  },
  {
   "cell_type": "markdown",
   "metadata": {},
   "source": [
    "Slicing in one-dimensional array :-"
   ]
  },
  {
   "cell_type": "code",
   "execution_count": 7,
   "metadata": {},
   "outputs": [
    {
     "name": "stdout",
     "output_type": "stream",
     "text": [
      "This is array:: [ 0  1  2  3  4  5  6  7  8  9 10 11]\n",
      "Length of arr:: 12\n",
      "Basic Slicing:: [0 1 2 3 4]\n",
      "Basic Slicing with step:: [ 2  4  6  8 10]\n",
      "Negative slicing:: [ 0  1  2  3  4  5  6  7  8  9 10]\n",
      "Negative Indexing:: 4\n"
     ]
    }
   ],
   "source": [
    "arr=np.arange(12)\n",
    "print(\"This is array::\",arr)\n",
    "print(\"Length of arr::\",len(arr))\n",
    "print(\"Basic Slicing::\",arr[:5])\n",
    "print(\"Basic Slicing with step::\",arr[2:11:2])\n",
    "print(\"Negative slicing::\",arr[:-1])\n",
    "print(\"Negative Indexing::\",arr[-8])"
   ]
  },
  {
   "cell_type": "markdown",
   "metadata": {},
   "source": [
    "Slicing in 2-dimensional array :-"
   ]
  },
  {
   "cell_type": "code",
   "execution_count": 26,
   "metadata": {},
   "outputs": [
    {
     "name": "stdout",
     "output_type": "stream",
     "text": [
      "this is 2-d array::\n",
      " [[ 2  4  6]\n",
      " [ 8 10 12]\n",
      " [14 16 18]]\n",
      "entire row:: [14 16 18]\n",
      "entire column:: [ 6 12 18]\n",
      "specific element:: 12\n"
     ]
    }
   ],
   "source": [
    "arr_2d=np.array([[2,4,6],\n",
    "                 [8,10,12],\n",
    "                 [14,16,18]]\n",
    "                )\n",
    "print(\"this is 2-d array::\\n\",arr_2d)\n",
    "# print(\"shape of the array::\",arr_2d.shape)\n",
    "# print(\"dimension of the array::\",arr_2d.ndim)\n",
    "print(\"entire row::\",arr_2d[2])\n",
    "print(\"entire column::\",arr_2d[:,2])\n",
    "print(\"specific element::\",arr_2d[1,2])"
   ]
  },
  {
   "cell_type": "markdown",
   "metadata": {},
   "source": [
    "Sorting:-"
   ]
  },
  {
   "cell_type": "code",
   "execution_count": 47,
   "metadata": {},
   "outputs": [
    {
     "name": "stdout",
     "output_type": "stream",
     "text": [
      "sorted 1-d arr::\n",
      " [1 2 3 4 5 6 7 8]\n",
      "original array::\n",
      " [[13  1  2]\n",
      " [ 5 84  8]\n",
      " [ 0 19 15]]\n",
      "sorted 2-d array by row wise::\n",
      " [[ 1  2 13]\n",
      " [ 5  8 84]\n",
      " [ 0 15 19]]\n",
      "sorted 2-d array by column wise::\n",
      " [[ 0  1  2]\n",
      " [ 5 19  8]\n",
      " [13 84 15]]\n"
     ]
    }
   ],
   "source": [
    "unsorted_arr=np.array([2, 1, 5, 3, 7, 4, 6, 8])\n",
    "# sorting one-dimensional array\n",
    "print(\"sorted 1-d arr::\\n\",np.sort(unsorted_arr))\n",
    "\n",
    "# sorting 2-dimensional array\n",
    "unsorted_2d_arr=np.array([[13,1,2],[5,84,8],[0,19,15]])\n",
    "print(\"original array::\\n\",unsorted_2d_arr)\n",
    "print(\"sorted 2-d array by row wise::\\n\",np.sort(unsorted_2d_arr,axis=1))\n",
    "\n",
    "print(\"sorted 2-d array by column wise::\\n\",np.sort(unsorted_2d_arr,axis=0))"
   ]
  },
  {
   "cell_type": "markdown",
   "metadata": {},
   "source": [
    "Filter :-"
   ]
  },
  {
   "cell_type": "code",
   "execution_count": 53,
   "metadata": {},
   "outputs": [
    {
     "name": "stdout",
     "output_type": "stream",
     "text": [
      "This is number arr::\n",
      " [ 0  1  2  3  4  5  6  7  8  9 10 11 12 13 14]\n",
      "even number arr::\n",
      " [ 0  2  4  6  8 10 12 14]\n",
      "odd number arr::\n",
      " [ 1  3  5  7  9 11 13]\n"
     ]
    }
   ],
   "source": [
    "numbers_arr=np.arange(15)\n",
    "print(\"This is number arr::\\n\",numbers_arr)\n",
    "\n",
    "even_number_arr=numbers_arr[numbers_arr%2==0]\n",
    "print(\"even number arr::\\n\",even_number_arr)\n",
    "\n",
    "odd_number_arr=numbers_arr[numbers_arr%2!=0]\n",
    "print(\"odd number arr::\\n\",odd_number_arr)\n"
   ]
  },
  {
   "cell_type": "markdown",
   "metadata": {},
   "source": [
    "Filter with mask :-"
   ]
  },
  {
   "cell_type": "code",
   "execution_count": 56,
   "metadata": {},
   "outputs": [
    {
     "name": "stdout",
     "output_type": "stream",
     "text": [
      "number is greater than 5 ::\n",
      " [ 6  7  8  9 10 11 12 13 14]\n"
     ]
    }
   ],
   "source": [
    "mask=numbers_arr > 5\n",
    "print(\"number is greater than 5 ::\\n\",numbers_arr[mask])"
   ]
  },
  {
   "cell_type": "markdown",
   "metadata": {},
   "source": [
    "Fancy Indexing vs np.where() :-"
   ]
  },
  {
   "cell_type": "code",
   "execution_count": 69,
   "metadata": {},
   "outputs": [
    {
     "name": "stdout",
     "output_type": "stream",
     "text": [
      "new array is::\n",
      " [11 13 15 17 21]\n",
      "where result::\t (array([ 6,  7,  8,  9, 10]),)\n",
      "NP where::\t [17 18 19 20 21]\n"
     ]
    }
   ],
   "source": [
    "# fancy indexing\n",
    "indices=[0,2,4,6,10]\n",
    "new_arr=np.array([11,12,13,14,15,16,17,18,19,20,21])\n",
    "print(\"new array is::\\n\",new_arr[indices])\n",
    "\n",
    "where_result=np.where(new_arr>16)\n",
    "print(\"where result::\\t\",where_result)\n",
    "print(\"NP where::\\t\",new_arr[where_result])"
   ]
  },
  {
   "cell_type": "code",
   "execution_count": 72,
   "metadata": {},
   "outputs": [
    {
     "name": "stdout",
     "output_type": "stream",
     "text": [
      "condition array::\n",
      " [False False False False False  True  True  True  True  True  True]\n"
     ]
    }
   ],
   "source": [
    "condition_array=np.where(new_arr>15,True,False)\n",
    "print(\"condition array::\\n\",condition_array)"
   ]
  },
  {
   "cell_type": "markdown",
   "metadata": {},
   "source": [
    "Concatenate (Adding data):-"
   ]
  },
  {
   "cell_type": "code",
   "execution_count": 75,
   "metadata": {},
   "outputs": [
    {
     "name": "stdout",
     "output_type": "stream",
     "text": [
      "combined array::\t [1 2 3 4 5 6]\n"
     ]
    }
   ],
   "source": [
    "x=np.array([1,2,3])\n",
    "y=np.array([4,5,6])\n",
    "combined_arr=np.concatenate((x,y))\n",
    "print(\"combined array::\\t\",combined_arr)"
   ]
  },
  {
   "cell_type": "markdown",
   "metadata": {},
   "source": [
    "Array Compatibility :-"
   ]
  },
  {
   "cell_type": "code",
   "execution_count": 77,
   "metadata": {},
   "outputs": [
    {
     "name": "stdout",
     "output_type": "stream",
     "text": [
      "compatibiliy of array is::\t False\n",
      "compatibiliy of array is::\t True\n"
     ]
    }
   ],
   "source": [
    "arr_1=np.array([1,2,3])\n",
    "arr_2=np.array([4,5,6,7])\n",
    "arr_3=np.array([8,9,10])\n",
    "\n",
    "print(\"compatibiliy of array is::\\t\",arr_1.shape==arr_2.shape)\n",
    "print(\"compatibiliy of array is::\\t\",arr_1.shape==arr_3.shape)"
   ]
  },
  {
   "cell_type": "markdown",
   "metadata": {},
   "source": [
    "How To add row and columns in a existing array :-"
   ]
  },
  {
   "cell_type": "code",
   "execution_count": 89,
   "metadata": {},
   "outputs": [
    {
     "name": "stdout",
     "output_type": "stream",
     "text": [
      "this is original array::\n",
      " [[1 2]\n",
      " [3 4]]\n",
      "With new row array::\n",
      " [[1 2]\n",
      " [3 4]\n",
      " [5 6]]\n",
      "with new column array::\n",
      " [[ 1  2  7  8]\n",
      " [ 3  4  8 12]]\n"
     ]
    }
   ],
   "source": [
    "original_arr=np.array([[1,2],[3,4]])\n",
    "new_row=np.array([[5,6]])\n",
    "\n",
    "with_new_row=np.vstack((original_arr,new_row))\n",
    "print(\"this is original array::\\n\",original_arr)\n",
    "print(\"With new row array::\\n\",with_new_row)\n",
    "\n",
    "new_col=np.array([[7,8],[8,12]])\n",
    "with_new_col=np.hstack((original_arr,new_col))\n",
    "print(\"with new column array::\\n\",with_new_col)"
   ]
  },
  {
   "cell_type": "markdown",
   "metadata": {},
   "source": [
    "How To delete an element from an array :-"
   ]
  },
  {
   "cell_type": "code",
   "execution_count": 93,
   "metadata": {},
   "outputs": [
    {
     "name": "stdout",
     "output_type": "stream",
     "text": [
      "after array deletion::\n",
      " [12 22 14  5]\n"
     ]
    }
   ],
   "source": [
    "arr = np.array([12, 22, 3, 14, 5])\n",
    "deleted_arr=np.delete(arr,2)\n",
    "print(\"after array deletion::\\n\",deleted_arr)"
   ]
  }
 ],
 "metadata": {
  "kernelspec": {
   "display_name": ".venv",
   "language": "python",
   "name": "python3"
  },
  "language_info": {
   "codemirror_mode": {
    "name": "ipython",
    "version": 3
   },
   "file_extension": ".py",
   "mimetype": "text/x-python",
   "name": "python",
   "nbconvert_exporter": "python",
   "pygments_lexer": "ipython3",
   "version": "3.12.7"
  }
 },
 "nbformat": 4,
 "nbformat_minor": 2
}
